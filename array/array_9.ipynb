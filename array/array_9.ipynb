{
 "cells": [
  {
   "cell_type": "markdown",
   "metadata": {},
   "source": [
    "1636. Sort Array by Increasing Frequency"
   ]
  },
  {
   "cell_type": "code",
   "execution_count": null,
   "metadata": {},
   "outputs": [],
   "source": [
    "\n",
    "from collections import Counter\n",
    "def frequencySort(self, nums: list[int]) -> list[int]:\n",
    "    count = Counter(nums)\n",
    "    nums.sort(key=lambda x: (count[x], -x))\n",
    "    return nums\n",
    "\n",
    "\n"
   ]
  }
 ],
 "metadata": {
  "language_info": {
   "name": "python"
  }
 },
 "nbformat": 4,
 "nbformat_minor": 2
}
