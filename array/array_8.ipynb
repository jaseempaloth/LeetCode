{
 "cells": [
  {
   "cell_type": "markdown",
   "metadata": {},
   "source": [
    "2418. Sort the People"
   ]
  },
  {
   "cell_type": "code",
   "execution_count": 5,
   "metadata": {},
   "outputs": [],
   "source": [
    "def sortPeople(self, names: list[str], heights: list[int]) -> list[str]:\n",
    "    height_to_name = {}\n",
    "    for height, name in zip(heights, names):\n",
    "        height_to_name[height] = name\n",
    "    \n",
    "    res = []\n",
    "\n",
    "    for height in reversed(sorted(heights)):\n",
    "        res.append(height_to_name[height])\n",
    "    return res\n",
    "\n"
   ]
  },
  {
   "cell_type": "code",
   "execution_count": 10,
   "metadata": {},
   "outputs": [
    {
     "name": "stdout",
     "output_type": "stream",
     "text": [
      "['Kevin', 'Eva', 'Henry', 'Alex']\n"
     ]
    }
   ],
   "source": [
    "# Test Cases  \n",
    "names = [\"Alex\", \"Kevin\", \"Eva\", \"Henry\"]\n",
    "heights = [160, 180, 175, 165]\n",
    "\n",
    "def sortPeople(names, heights):\n",
    "    height_to_name = {}\n",
    "    for height, name in zip(heights, names):\n",
    "        height_to_name[height] = name\n",
    "    \n",
    "    res = []\n",
    "\n",
    "    for height in reversed(sorted(heights)):\n",
    "        res.append(height_to_name[height])\n",
    "    return res\n",
    "\n",
    "print(sortPeople(names, heights))"
   ]
  },
  {
   "cell_type": "code",
   "execution_count": null,
   "metadata": {},
   "outputs": [],
   "source": []
  }
 ],
 "metadata": {
  "kernelspec": {
   "display_name": "base",
   "language": "python",
   "name": "python3"
  },
  "language_info": {
   "codemirror_mode": {
    "name": "ipython",
    "version": 3
   },
   "file_extension": ".py",
   "mimetype": "text/x-python",
   "name": "python",
   "nbconvert_exporter": "python",
   "pygments_lexer": "ipython3",
   "version": "3.11.9"
  }
 },
 "nbformat": 4,
 "nbformat_minor": 2
}
